{
 "cells": [
  {
   "cell_type": "code",
   "execution_count": 15,
   "metadata": {},
   "outputs": [
    {
     "name": "stdout",
     "output_type": "stream",
     "text": [
      "Downloading data from https://storage.googleapis.com/tensorflow/keras-applications/vgg16/vgg16_weights_tf_dim_ordering_tf_kernels_notop.h5\n",
      "58889256/58889256 [==============================] - 20s 0us/step\n"
     ]
    }
   ],
   "source": [
    "from keras.applications.vgg16 import VGG16\n",
    "from keras.preprocessing import image\n",
    "from keras.applications.vgg16 import preprocess_input\n",
    "import numpy as np\n",
    "\n",
    "base_model = VGG16(weights='imagenet', include_top=False, input_shape=(224, 224, 3))\n",
    "\n"
   ]
  },
  {
   "cell_type": "code",
   "execution_count": 18,
   "metadata": {},
   "outputs": [],
   "source": [
    "from tensorflow.keras.preprocessing.image import img_to_array\n"
   ]
  },
  {
   "attachments": {},
   "cell_type": "markdown",
   "metadata": {},
   "source": [
    "from tensorflow.keras.preprocessing.image import load_img, img_to_array\n",
    "from keras.applications.vgg16 import preprocess_input\n",
    "\n",
    "# Carga y preprocesamiento de la imagen\n",
    "img = load_img('.\\images\\mancuernas\\mancuernas_0.jpg', target_size=(224, 224))\n",
    "img = img_to_array(img)\n",
    "img = preprocess_input(img)\n",
    "\n",
    "# Extracción de características\n",
    "features = base_model.predict(img.reshape(1, 224, 224, 3))\n",
    "\n",
    "\n"
   ]
  },
  {
   "cell_type": "code",
   "execution_count": 25,
   "metadata": {},
   "outputs": [],
   "source": [
    "import numpy as np\n",
    "from keras.preprocessing import image\n",
    "from keras.applications.vgg16 import preprocess_input\n",
    "\n",
    "import tensorflow as tf\n",
    "from tensorflow.keras.preprocessing import image\n",
    "\n",
    "\n",
    "images_set1 = []\n",
    "images_set2 = []\n",
    "images_set3 = []\n",
    "\n",
    "for i in range(0, 279):\n",
    "    img_path_set1 = './images/mancuernas/mancuernas_' + str(i) + '.jpg'\n",
    "    img_path_set2 = './images/piano/piano_' + str(i) + '.jpg'\n",
    "    img_path_set3 = './images/skate/skate_' + str(i) + '.jpg'\n",
    "    \n",
    "    img_set1 = image.load_img(img_path_set1, target_size=(224, 224))\n",
    "    img_set2 = image.load_img(img_path_set2, target_size=(224, 224))\n",
    "    img_set3 = image.load_img(img_path_set3, target_size=(224, 224))\n",
    "    \n",
    "    img_set1 = image.img_to_array(img_set1)\n",
    "    img_set2 = image.img_to_array(img_set2)\n",
    "    img_set3 = image.img_to_array(img_set3)\n",
    "    \n",
    "    images_set1.append(img_set1)\n",
    "    images_set2.append(img_set2)\n",
    "    images_set3.append(img_set3)\n",
    "    \n",
    "images_set1 = np.array(images_set1)\n",
    "images_set2 = np.array(images_set2)\n",
    "images_set3 = np.array(images_set3)\n"
   ]
  },
  {
   "cell_type": "code",
   "execution_count": 26,
   "metadata": {},
   "outputs": [],
   "source": [
    "images_set1 = preprocess_input(images_set1)\n",
    "images_set2 = preprocess_input(images_set2)\n",
    "images_set3 = preprocess_input(images_set3)\n"
   ]
  },
  {
   "cell_type": "code",
   "execution_count": 27,
   "metadata": {},
   "outputs": [
    {
     "name": "stdout",
     "output_type": "stream",
     "text": [
      "9/9 [==============================] - 37s 4s/step\n",
      "9/9 [==============================] - 40s 4s/step\n",
      "9/9 [==============================] - 41s 5s/step\n"
     ]
    }
   ],
   "source": [
    "predictions_set1 = model.predict(images_set1)\n",
    "predictions_set2 = model.predict(images_set2)\n",
    "predictions_set3 = model.predict(images_set3)\n"
   ]
  },
  {
   "cell_type": "code",
   "execution_count": 28,
   "metadata": {},
   "outputs": [
    {
     "data": {
      "text/plain": [
       "array([[2.3210709e-05, 2.9016846e-05, 5.5023006e-06, ..., 3.5374844e-06,\n",
       "        2.7438338e-04, 1.4964895e-03],\n",
       "       [4.9880499e-13, 1.5974991e-14, 1.5604263e-12, ..., 3.4300839e-13,\n",
       "        1.3738130e-12, 3.0758970e-10],\n",
       "       [3.7163763e-09, 3.1169901e-07, 1.8646643e-08, ..., 1.2315456e-04,\n",
       "        2.3222647e-07, 1.4159519e-06],\n",
       "       ...,\n",
       "       [1.8714279e-12, 3.2264694e-13, 4.2966273e-13, ..., 7.9828326e-13,\n",
       "        3.8888788e-11, 9.7315123e-10],\n",
       "       [4.6134483e-06, 8.4091675e-07, 1.3850009e-06, ..., 1.0132583e-06,\n",
       "        5.7897951e-06, 1.1798949e-04],\n",
       "       [4.0957797e-08, 1.9516240e-09, 3.1831199e-10, ..., 7.1232651e-09,\n",
       "        7.5367993e-08, 2.1114649e-07]], dtype=float32)"
      ]
     },
     "execution_count": 28,
     "metadata": {},
     "output_type": "execute_result"
    }
   ],
   "source": []
  }
 ],
 "metadata": {
  "kernelspec": {
   "display_name": "base",
   "language": "python",
   "name": "python3"
  },
  "language_info": {
   "codemirror_mode": {
    "name": "ipython",
    "version": 3
   },
   "file_extension": ".py",
   "mimetype": "text/x-python",
   "name": "python",
   "nbconvert_exporter": "python",
   "pygments_lexer": "ipython3",
   "version": "3.9.13"
  },
  "orig_nbformat": 4
 },
 "nbformat": 4,
 "nbformat_minor": 2
}
