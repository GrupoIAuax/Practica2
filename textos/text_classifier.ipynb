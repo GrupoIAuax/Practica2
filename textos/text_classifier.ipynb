{
 "cells": [
  {
   "cell_type": "code",
   "execution_count": 231,
   "metadata": {},
   "outputs": [],
   "source": [
    "# Load the libraries\n",
    "\n",
    "import pandas as pd\n",
    "\n",
    "from sklearn.model_selection import train_test_split\n",
    "from sklearn.feature_extraction.text import CountVectorizer\n",
    "from sklearn.linear_model import LogisticRegression\n",
    "from sklearn.metrics import classification_report, confusion_matrix, plot_confusion_matrix\n",
    "\n",
    "from sklearn.pipeline import Pipeline\n",
    "\n",
    "from joblib import dump, load"
   ]
  },
  {
   "cell_type": "code",
   "execution_count": 232,
   "metadata": {},
   "outputs": [
    {
     "data": {
      "text/html": [
       "<div>\n",
       "<style scoped>\n",
       "    .dataframe tbody tr th:only-of-type {\n",
       "        vertical-align: middle;\n",
       "    }\n",
       "\n",
       "    .dataframe tbody tr th {\n",
       "        vertical-align: top;\n",
       "    }\n",
       "\n",
       "    .dataframe thead th {\n",
       "        text-align: right;\n",
       "    }\n",
       "</style>\n",
       "<table border=\"1\" class=\"dataframe\">\n",
       "  <thead>\n",
       "    <tr style=\"text-align: right;\">\n",
       "      <th></th>\n",
       "      <th>original_title</th>\n",
       "      <th>genre</th>\n",
       "      <th>synopsis</th>\n",
       "      <th>image_url</th>\n",
       "    </tr>\n",
       "  </thead>\n",
       "  <tbody>\n",
       "    <tr>\n",
       "      <th>0</th>\n",
       "      <td>Twin Peaks The Return: Gotta Light?</td>\n",
       "      <td>Intriga.                 Terror |             ...</td>\n",
       "      <td>Dirigido por Lynch y escrito por él y Mark Fro...</td>\n",
       "      <td>https://pics.filmaffinity.com/twin_peaks_the_r...</td>\n",
       "    </tr>\n",
       "    <tr>\n",
       "      <th>1</th>\n",
       "      <td>Psycho</td>\n",
       "      <td>Terror.                 Intriga.              ...</td>\n",
       "      <td>Marion Crane, una joven secretaria, tras comet...</td>\n",
       "      <td>https://pics.filmaffinity.com/psycho-805182707...</td>\n",
       "    </tr>\n",
       "    <tr>\n",
       "      <th>2</th>\n",
       "      <td>Black Mirror</td>\n",
       "      <td>Serie de TV.                 Ciencia ficción. ...</td>\n",
       "      <td>Serie de TV (2011-2023). 6 temporadas. Serie a...</td>\n",
       "      <td>https://pics.filmaffinity.com/black_mirror-182...</td>\n",
       "    </tr>\n",
       "    <tr>\n",
       "      <th>3</th>\n",
       "      <td>Freaks</td>\n",
       "      <td>Drama.                 Terror |               ...</td>\n",
       "      <td>En un circo lleno de seres deformes, tullidos ...</td>\n",
       "      <td>https://pics.filmaffinity.com/freaks-293452897...</td>\n",
       "    </tr>\n",
       "    <tr>\n",
       "      <th>4</th>\n",
       "      <td>The Shining</td>\n",
       "      <td>Terror |                 Sobrenatural.        ...</td>\n",
       "      <td>Jack Torrance se traslada con su mujer y su hi...</td>\n",
       "      <td>https://pics.filmaffinity.com/the_shining-4531...</td>\n",
       "    </tr>\n",
       "  </tbody>\n",
       "</table>\n",
       "</div>"
      ],
      "text/plain": [
       "                        original_title  \\\n",
       "0  Twin Peaks The Return: Gotta Light?   \n",
       "1                               Psycho   \n",
       "2                         Black Mirror   \n",
       "3                               Freaks   \n",
       "4                          The Shining   \n",
       "\n",
       "                                               genre  \\\n",
       "0  Intriga.                 Terror |             ...   \n",
       "1  Terror.                 Intriga.              ...   \n",
       "2  Serie de TV.                 Ciencia ficción. ...   \n",
       "3  Drama.                 Terror |               ...   \n",
       "4  Terror |                 Sobrenatural.        ...   \n",
       "\n",
       "                                            synopsis  \\\n",
       "0  Dirigido por Lynch y escrito por él y Mark Fro...   \n",
       "1  Marion Crane, una joven secretaria, tras comet...   \n",
       "2  Serie de TV (2011-2023). 6 temporadas. Serie a...   \n",
       "3  En un circo lleno de seres deformes, tullidos ...   \n",
       "4  Jack Torrance se traslada con su mujer y su hi...   \n",
       "\n",
       "                                           image_url  \n",
       "0  https://pics.filmaffinity.com/twin_peaks_the_r...  \n",
       "1  https://pics.filmaffinity.com/psycho-805182707...  \n",
       "2  https://pics.filmaffinity.com/black_mirror-182...  \n",
       "3  https://pics.filmaffinity.com/freaks-293452897...  \n",
       "4  https://pics.filmaffinity.com/the_shining-4531...  "
      ]
     },
     "execution_count": 232,
     "metadata": {},
     "output_type": "execute_result"
    }
   ],
   "source": [
    "path = \"movies.json\"\n",
    "df = pd.read_json(path)\n",
    "df.head()"
   ]
  },
  {
   "cell_type": "code",
   "execution_count": 233,
   "metadata": {},
   "outputs": [
    {
     "data": {
      "text/plain": [
       "Romance.                 Comedia |                 Comedia romántica                                                                                                                                                                                                                                                                                               0.02\n",
       "Intriga.                 Terror |                 Surrealismo.                 Episodio de TV                                                                                                                                                                                                                                                                      0.01\n",
       "Serie de TV.                 Animación.                 Ciencia ficción.                 Comedia |                 Parodia.                 Surrealismo.                 Animación para adultos.                 Comedia negra                                                                                                                                     0.01\n",
       "Comedia.                 Drama.                 Romance |                 Años 60.                 Años 70.                 Discapacidad.                 Comedia dramática.                 Película de culto.                 Guerra de Vietnam.                 Nochevieja / Año nuevo.                 Ping-pong                                               0.01\n",
       "Serie de TV.                 Thriller.                 Drama.                 Comedia |                 Crimen.                 Policíaco.                 Comedia negra.                 Serie de antología.                 Miniserie de TV.                 Basada en una película                                                                              0.01\n",
       "                                                                                                                                                                                                                                                                                                                                                                   ... \n",
       "Terror |                 Posesiones / Exorcismos.                 Religión.                 Sobrenatural.                 Película de culto                                                                                                                                                                                                                        0.01\n",
       "Intriga.                 Drama.                 Terror |                 Surrealismo.                 Mediometraje.                 Telefilm                                                                                                                                                                                                                       0.01\n",
       "Terror |                 Futuro postapocalíptico.                 Pandemias.                 Videojuego.                 Episodio de TV                                                                                                                                                                                                                            0.01\n",
       "Animación.                 Fantástico.                 Musical.                 Romance.                 Terror |                 Comedia de terror.                 Monstruos.                 Halloween.                 Navidad.                 Stop Motion.                 Película de culto.                 3-D.                 Animación para adultos    0.01\n",
       "Serie de TV.                 Comedia |                 Sitcom                                                                                                                                                                                                                                                                                                      0.01\n",
       "Name: genre, Length: 99, dtype: float64"
      ]
     },
     "execution_count": 233,
     "metadata": {},
     "output_type": "execute_result"
    }
   ],
   "source": [
    "df[\"genre\"].value_counts(normalize=True)\n"
   ]
  },
  {
   "cell_type": "code",
   "execution_count": 234,
   "metadata": {},
   "outputs": [
    {
     "data": {
      "text/html": [
       "<div>\n",
       "<style scoped>\n",
       "    .dataframe tbody tr th:only-of-type {\n",
       "        vertical-align: middle;\n",
       "    }\n",
       "\n",
       "    .dataframe tbody tr th {\n",
       "        vertical-align: top;\n",
       "    }\n",
       "\n",
       "    .dataframe thead th {\n",
       "        text-align: right;\n",
       "    }\n",
       "</style>\n",
       "<table border=\"1\" class=\"dataframe\">\n",
       "  <thead>\n",
       "    <tr style=\"text-align: right;\">\n",
       "      <th></th>\n",
       "      <th>original_title</th>\n",
       "      <th>genre</th>\n",
       "      <th>synopsis</th>\n",
       "    </tr>\n",
       "  </thead>\n",
       "  <tbody>\n",
       "    <tr>\n",
       "      <th>0</th>\n",
       "      <td>Twin Peaks The Return: Gotta Light?</td>\n",
       "      <td>Intriga.                 Terror |             ...</td>\n",
       "      <td>Dirigido por Lynch y escrito por él y Mark Fro...</td>\n",
       "    </tr>\n",
       "    <tr>\n",
       "      <th>1</th>\n",
       "      <td>Psycho</td>\n",
       "      <td>Terror.                 Intriga.              ...</td>\n",
       "      <td>Marion Crane, una joven secretaria, tras comet...</td>\n",
       "    </tr>\n",
       "    <tr>\n",
       "      <th>2</th>\n",
       "      <td>Black Mirror</td>\n",
       "      <td>Serie de TV.                 Ciencia ficción. ...</td>\n",
       "      <td>Serie de TV (2011-2023). 6 temporadas. Serie a...</td>\n",
       "    </tr>\n",
       "    <tr>\n",
       "      <th>3</th>\n",
       "      <td>Freaks</td>\n",
       "      <td>Drama.                 Terror |               ...</td>\n",
       "      <td>En un circo lleno de seres deformes, tullidos ...</td>\n",
       "    </tr>\n",
       "    <tr>\n",
       "      <th>4</th>\n",
       "      <td>The Shining</td>\n",
       "      <td>Terror |                 Sobrenatural.        ...</td>\n",
       "      <td>Jack Torrance se traslada con su mujer y su hi...</td>\n",
       "    </tr>\n",
       "  </tbody>\n",
       "</table>\n",
       "</div>"
      ],
      "text/plain": [
       "                        original_title  \\\n",
       "0  Twin Peaks The Return: Gotta Light?   \n",
       "1                               Psycho   \n",
       "2                         Black Mirror   \n",
       "3                               Freaks   \n",
       "4                          The Shining   \n",
       "\n",
       "                                               genre  \\\n",
       "0  Intriga.                 Terror |             ...   \n",
       "1  Terror.                 Intriga.              ...   \n",
       "2  Serie de TV.                 Ciencia ficción. ...   \n",
       "3  Drama.                 Terror |               ...   \n",
       "4  Terror |                 Sobrenatural.        ...   \n",
       "\n",
       "                                            synopsis  \n",
       "0  Dirigido por Lynch y escrito por él y Mark Fro...  \n",
       "1  Marion Crane, una joven secretaria, tras comet...  \n",
       "2  Serie de TV (2011-2023). 6 temporadas. Serie a...  \n",
       "3  En un circo lleno de seres deformes, tullidos ...  \n",
       "4  Jack Torrance se traslada con su mujer y su hi...  "
      ]
     },
     "execution_count": 234,
     "metadata": {},
     "output_type": "execute_result"
    }
   ],
   "source": [
    "\n",
    "df = df.drop(\"image_url\", axis=1)\n",
    "df.head()"
   ]
  },
  {
   "cell_type": "code",
   "execution_count": 235,
   "metadata": {},
   "outputs": [],
   "source": [
    "import re"
   ]
  },
  {
   "cell_type": "code",
   "execution_count": 236,
   "metadata": {},
   "outputs": [
    {
     "data": {
      "text/html": [
       "<div>\n",
       "<style scoped>\n",
       "    .dataframe tbody tr th:only-of-type {\n",
       "        vertical-align: middle;\n",
       "    }\n",
       "\n",
       "    .dataframe tbody tr th {\n",
       "        vertical-align: top;\n",
       "    }\n",
       "\n",
       "    .dataframe thead th {\n",
       "        text-align: right;\n",
       "    }\n",
       "</style>\n",
       "<table border=\"1\" class=\"dataframe\">\n",
       "  <thead>\n",
       "    <tr style=\"text-align: right;\">\n",
       "      <th></th>\n",
       "      <th>original_title</th>\n",
       "      <th>genre</th>\n",
       "      <th>synopsis</th>\n",
       "    </tr>\n",
       "  </thead>\n",
       "  <tbody>\n",
       "    <tr>\n",
       "      <th>0</th>\n",
       "      <td>Twin Peaks The Return: Gotta Light?</td>\n",
       "      <td>horror</td>\n",
       "      <td>Dirigido por Lynch y escrito por él y Mark Fro...</td>\n",
       "    </tr>\n",
       "    <tr>\n",
       "      <th>1</th>\n",
       "      <td>Psycho</td>\n",
       "      <td>horror</td>\n",
       "      <td>Marion Crane, una joven secretaria, tras comet...</td>\n",
       "    </tr>\n",
       "    <tr>\n",
       "      <th>2</th>\n",
       "      <td>Black Mirror</td>\n",
       "      <td>horror</td>\n",
       "      <td>Serie de TV (2011-2023). 6 temporadas. Serie a...</td>\n",
       "    </tr>\n",
       "    <tr>\n",
       "      <th>3</th>\n",
       "      <td>Freaks</td>\n",
       "      <td>horror</td>\n",
       "      <td>En un circo lleno de seres deformes, tullidos ...</td>\n",
       "    </tr>\n",
       "    <tr>\n",
       "      <th>4</th>\n",
       "      <td>The Shining</td>\n",
       "      <td>horror</td>\n",
       "      <td>Jack Torrance se traslada con su mujer y su hi...</td>\n",
       "    </tr>\n",
       "    <tr>\n",
       "      <th>...</th>\n",
       "      <td>...</td>\n",
       "      <td>...</td>\n",
       "      <td>...</td>\n",
       "    </tr>\n",
       "    <tr>\n",
       "      <th>95</th>\n",
       "      <td>Annie Hall</td>\n",
       "      <td>comedia</td>\n",
       "      <td>Alvy Singer, un cuarentón bastante neurótico, ...</td>\n",
       "    </tr>\n",
       "    <tr>\n",
       "      <th>96</th>\n",
       "      <td>The Philadelphia Story</td>\n",
       "      <td>comedia</td>\n",
       "      <td>La mansión de los Lord se prepara para celebra...</td>\n",
       "    </tr>\n",
       "    <tr>\n",
       "      <th>97</th>\n",
       "      <td>The Shop Around the Corner</td>\n",
       "      <td>comedia</td>\n",
       "      <td>Alfred Kralik es el tímido jefe de vendedores ...</td>\n",
       "    </tr>\n",
       "    <tr>\n",
       "      <th>98</th>\n",
       "      <td>Hajime no Ippo: New Challenger</td>\n",
       "      <td>comedia</td>\n",
       "      <td>Serie de TV (2009-2009). 1 temporada. 25 episo...</td>\n",
       "    </tr>\n",
       "    <tr>\n",
       "      <th>99</th>\n",
       "      <td>Keeping Up Appearances</td>\n",
       "      <td>comedia</td>\n",
       "      <td>Serie de TV (1990-1995).</td>\n",
       "    </tr>\n",
       "  </tbody>\n",
       "</table>\n",
       "<p>100 rows × 3 columns</p>\n",
       "</div>"
      ],
      "text/plain": [
       "                         original_title    genre  \\\n",
       "0   Twin Peaks The Return: Gotta Light?   horror   \n",
       "1                                Psycho   horror   \n",
       "2                          Black Mirror   horror   \n",
       "3                                Freaks   horror   \n",
       "4                           The Shining   horror   \n",
       "..                                  ...      ...   \n",
       "95                           Annie Hall  comedia   \n",
       "96               The Philadelphia Story  comedia   \n",
       "97           The Shop Around the Corner  comedia   \n",
       "98       Hajime no Ippo: New Challenger  comedia   \n",
       "99               Keeping Up Appearances  comedia   \n",
       "\n",
       "                                             synopsis  \n",
       "0   Dirigido por Lynch y escrito por él y Mark Fro...  \n",
       "1   Marion Crane, una joven secretaria, tras comet...  \n",
       "2   Serie de TV (2011-2023). 6 temporadas. Serie a...  \n",
       "3   En un circo lleno de seres deformes, tullidos ...  \n",
       "4   Jack Torrance se traslada con su mujer y su hi...  \n",
       "..                                                ...  \n",
       "95  Alvy Singer, un cuarentón bastante neurótico, ...  \n",
       "96  La mansión de los Lord se prepara para celebra...  \n",
       "97  Alfred Kralik es el tímido jefe de vendedores ...  \n",
       "98  Serie de TV (2009-2009). 1 temporada. 25 episo...  \n",
       "99                           Serie de TV (1990-1995).  \n",
       "\n",
       "[100 rows x 3 columns]"
      ]
     },
     "execution_count": 236,
     "metadata": {},
     "output_type": "execute_result"
    }
   ],
   "source": [
    "\n",
    "patron_horror = re.compile(r\"\\b(?:terror|horror)\\b\", flags=re.IGNORECASE)\n",
    "patron_comedia = re.compile(r\"\\b(?:comedia|humor)\\b\", flags=re.IGNORECASE)\n",
    "\n",
    "df[\"genre\"] = df[\"genre\"].apply(lambda x: \"horror\" if patron_horror.search(x) else \"comedia\")\n",
    "\n",
    "df"
   ]
  },
  {
   "cell_type": "code",
   "execution_count": 237,
   "metadata": {},
   "outputs": [
    {
     "data": {
      "text/html": [
       "<div>\n",
       "<style scoped>\n",
       "    .dataframe tbody tr th:only-of-type {\n",
       "        vertical-align: middle;\n",
       "    }\n",
       "\n",
       "    .dataframe tbody tr th {\n",
       "        vertical-align: top;\n",
       "    }\n",
       "\n",
       "    .dataframe thead th {\n",
       "        text-align: right;\n",
       "    }\n",
       "</style>\n",
       "<table border=\"1\" class=\"dataframe\">\n",
       "  <thead>\n",
       "    <tr style=\"text-align: right;\">\n",
       "      <th></th>\n",
       "      <th>original_title</th>\n",
       "      <th>genre</th>\n",
       "      <th>synopsis</th>\n",
       "    </tr>\n",
       "  </thead>\n",
       "  <tbody>\n",
       "    <tr>\n",
       "      <th>0</th>\n",
       "      <td>Twin Peaks The Return: Gotta Light?</td>\n",
       "      <td>0</td>\n",
       "      <td>Dirigido por Lynch y escrito por él y Mark Fro...</td>\n",
       "    </tr>\n",
       "    <tr>\n",
       "      <th>1</th>\n",
       "      <td>Psycho</td>\n",
       "      <td>0</td>\n",
       "      <td>Marion Crane, una joven secretaria, tras comet...</td>\n",
       "    </tr>\n",
       "    <tr>\n",
       "      <th>2</th>\n",
       "      <td>Black Mirror</td>\n",
       "      <td>0</td>\n",
       "      <td>Serie de TV (2011-2023). 6 temporadas. Serie a...</td>\n",
       "    </tr>\n",
       "    <tr>\n",
       "      <th>3</th>\n",
       "      <td>Freaks</td>\n",
       "      <td>0</td>\n",
       "      <td>En un circo lleno de seres deformes, tullidos ...</td>\n",
       "    </tr>\n",
       "    <tr>\n",
       "      <th>4</th>\n",
       "      <td>The Shining</td>\n",
       "      <td>0</td>\n",
       "      <td>Jack Torrance se traslada con su mujer y su hi...</td>\n",
       "    </tr>\n",
       "    <tr>\n",
       "      <th>...</th>\n",
       "      <td>...</td>\n",
       "      <td>...</td>\n",
       "      <td>...</td>\n",
       "    </tr>\n",
       "    <tr>\n",
       "      <th>95</th>\n",
       "      <td>Annie Hall</td>\n",
       "      <td>1</td>\n",
       "      <td>Alvy Singer, un cuarentón bastante neurótico, ...</td>\n",
       "    </tr>\n",
       "    <tr>\n",
       "      <th>96</th>\n",
       "      <td>The Philadelphia Story</td>\n",
       "      <td>1</td>\n",
       "      <td>La mansión de los Lord se prepara para celebra...</td>\n",
       "    </tr>\n",
       "    <tr>\n",
       "      <th>97</th>\n",
       "      <td>The Shop Around the Corner</td>\n",
       "      <td>1</td>\n",
       "      <td>Alfred Kralik es el tímido jefe de vendedores ...</td>\n",
       "    </tr>\n",
       "    <tr>\n",
       "      <th>98</th>\n",
       "      <td>Hajime no Ippo: New Challenger</td>\n",
       "      <td>1</td>\n",
       "      <td>Serie de TV (2009-2009). 1 temporada. 25 episo...</td>\n",
       "    </tr>\n",
       "    <tr>\n",
       "      <th>99</th>\n",
       "      <td>Keeping Up Appearances</td>\n",
       "      <td>1</td>\n",
       "      <td>Serie de TV (1990-1995).</td>\n",
       "    </tr>\n",
       "  </tbody>\n",
       "</table>\n",
       "<p>100 rows × 3 columns</p>\n",
       "</div>"
      ],
      "text/plain": [
       "                         original_title  genre  \\\n",
       "0   Twin Peaks The Return: Gotta Light?      0   \n",
       "1                                Psycho      0   \n",
       "2                          Black Mirror      0   \n",
       "3                                Freaks      0   \n",
       "4                           The Shining      0   \n",
       "..                                  ...    ...   \n",
       "95                           Annie Hall      1   \n",
       "96               The Philadelphia Story      1   \n",
       "97           The Shop Around the Corner      1   \n",
       "98       Hajime no Ippo: New Challenger      1   \n",
       "99               Keeping Up Appearances      1   \n",
       "\n",
       "                                             synopsis  \n",
       "0   Dirigido por Lynch y escrito por él y Mark Fro...  \n",
       "1   Marion Crane, una joven secretaria, tras comet...  \n",
       "2   Serie de TV (2011-2023). 6 temporadas. Serie a...  \n",
       "3   En un circo lleno de seres deformes, tullidos ...  \n",
       "4   Jack Torrance se traslada con su mujer y su hi...  \n",
       "..                                                ...  \n",
       "95  Alvy Singer, un cuarentón bastante neurótico, ...  \n",
       "96  La mansión de los Lord se prepara para celebra...  \n",
       "97  Alfred Kralik es el tímido jefe de vendedores ...  \n",
       "98  Serie de TV (2009-2009). 1 temporada. 25 episo...  \n",
       "99                           Serie de TV (1990-1995).  \n",
       "\n",
       "[100 rows x 3 columns]"
      ]
     },
     "execution_count": 237,
     "metadata": {},
     "output_type": "execute_result"
    }
   ],
   "source": [
    "df[\"genre\"] = df[\"genre\"].apply(lambda x:1 if x == \"comedia\" else 0)\n",
    "df"
   ]
  },
  {
   "cell_type": "code",
   "execution_count": 238,
   "metadata": {},
   "outputs": [
    {
     "data": {
      "text/plain": [
       "0    0.51\n",
       "1    0.49\n",
       "Name: genre, dtype: float64"
      ]
     },
     "execution_count": 238,
     "metadata": {},
     "output_type": "execute_result"
    }
   ],
   "source": [
    "df[\"genre\"].value_counts(normalize=True)"
   ]
  },
  {
   "cell_type": "code",
   "execution_count": 239,
   "metadata": {},
   "outputs": [],
   "source": [
    "x_syn = df[\"synopsis\"]\n",
    "y_gen = df[\"genre\"]\n",
    "x_syn, x_syntest, y_gen, y_gentest = train_test_split(x_syn, y_gen, test_size=0.4, random_state=42)"
   ]
  },
  {
   "cell_type": "code",
   "execution_count": 240,
   "metadata": {},
   "outputs": [],
   "source": [
    "import stopwordsiso\n",
    "stopwords_ex = stopwordsiso.stopwords('es')"
   ]
  },
  {
   "cell_type": "code",
   "execution_count": 241,
   "metadata": {},
   "outputs": [],
   "source": [
    "vectorizador=CountVectorizer(stop_words=stopwords_ex)\n",
    "x_syn_vectorizado = vectorizador.fit_transform(x_syn)"
   ]
  },
  {
   "cell_type": "code",
   "execution_count": 242,
   "metadata": {},
   "outputs": [],
   "source": [
    "x_syntest_vectorizado = vectorizador.transform(x_syntest)"
   ]
  },
  {
   "cell_type": "code",
   "execution_count": 243,
   "metadata": {},
   "outputs": [
    {
     "data": {
      "text/plain": [
       "LogisticRegression()"
      ]
     },
     "execution_count": 243,
     "metadata": {},
     "output_type": "execute_result"
    }
   ],
   "source": [
    "from sklearn.linear_model import LogisticRegression\n",
    "\n",
    "clf = LogisticRegression()\n",
    "clf.fit(x_syn_vectorizado, y_gen)"
   ]
  },
  {
   "cell_type": "code",
   "execution_count": 244,
   "metadata": {},
   "outputs": [
    {
     "name": "stdout",
     "output_type": "stream",
     "text": [
      "              precision    recall  f1-score   support\n",
      "\n",
      "      Horror       0.85      0.48      0.61        23\n",
      "      Comedy       0.56      0.88      0.68        17\n",
      "\n",
      "    accuracy                           0.65        40\n",
      "   macro avg       0.70      0.68      0.65        40\n",
      "weighted avg       0.72      0.65      0.64        40\n",
      "\n"
     ]
    }
   ],
   "source": [
    "from sklearn.metrics import classification_report, plot_confusion_matrix\n",
    "\n",
    "preds = clf.predict(x_syntest_vectorizado)\n",
    "print(classification_report(y_gentest, preds,target_names=['Horror','Comedy']))"
   ]
  },
  {
   "cell_type": "code",
   "execution_count": 245,
   "metadata": {},
   "outputs": [
    {
     "data": {
      "text/plain": [
       "(40,)"
      ]
     },
     "execution_count": 245,
     "metadata": {},
     "output_type": "execute_result"
    }
   ],
   "source": [
    "y_gentest.shape"
   ]
  },
  {
   "cell_type": "code",
   "execution_count": 246,
   "metadata": {},
   "outputs": [
    {
     "data": {
      "text/plain": [
       "(40, 1521)"
      ]
     },
     "execution_count": 246,
     "metadata": {},
     "output_type": "execute_result"
    }
   ],
   "source": [
    "x_syntest_vectorizado.shape"
   ]
  },
  {
   "cell_type": "code",
   "execution_count": 247,
   "metadata": {},
   "outputs": [
    {
     "name": "stderr",
     "output_type": "stream",
     "text": [
      "c:\\Users\\daniv\\anaconda3\\lib\\site-packages\\sklearn\\utils\\deprecation.py:87: FutureWarning: Function plot_confusion_matrix is deprecated; Function `plot_confusion_matrix` is deprecated in 1.0 and will be removed in 1.2. Use one of the class methods: ConfusionMatrixDisplay.from_predictions or ConfusionMatrixDisplay.from_estimator.\n",
      "  warnings.warn(msg, category=FutureWarning)\n"
     ]
    },
    {
     "data": {
      "text/plain": [
       "<sklearn.metrics._plot.confusion_matrix.ConfusionMatrixDisplay at 0x1d5e11dc910>"
      ]
     },
     "execution_count": 247,
     "metadata": {},
     "output_type": "execute_result"
    },
    {
     "data": {
      "image/png": "[encoded data removed]",
      "text/plain": [
       "<Figure size 640x480 with 2 Axes>"
      ]
     },
     "metadata": {},
     "output_type": "display_data"
    }
   ],
   "source": [
    "plot_confusion_matrix(clf, x_syntest_vectorizado, y_gentest, display_labels=['Horror','Comedy'])"
   ]
  },
  {
   "attachments": {},
   "cell_type": "markdown",
   "metadata": {},
   "source": [
    "Como nuestro conjunto de datos no es del tamaño deseado, la precisión no es buena pero el modelo funciona correctamente."
   ]
  }
 ],
 "metadata": {
  "kernelspec": {
   "display_name": "uax-clase",
   "language": "python",
   "name": "uax-clase"
  },
  "language_info": {
   "codemirror_mode": {
    "name": "ipython",
    "version": 3
   },
   "file_extension": ".py",
   "mimetype": "text/x-python",
   "name": "python",
   "nbconvert_exporter": "python",
   "pygments_lexer": "ipython3",
   "version": "3.9.13"
  },
  "orig_nbformat": 4
 },
 "nbformat": 4,
 "nbformat_minor": 2
}
